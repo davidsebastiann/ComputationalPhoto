{
 "cells": [
  {
   "cell_type": "markdown",
   "metadata": {},
   "source": [
    "**Homework Week 2**\n",
    "\n",
    "*Computational Photography*\n",
    "\n",
    "This assignment is mostly about practicing manipulating numbers and strings in python. It ends with backing an algorithm out of code.\n"
   ]
  },
  {
   "cell_type": "markdown",
   "metadata": {},
   "source": [
    "Write code that when you run the cell generates a tic-tac-toe board\n",
    "Expected output:\n",
    "\n",
    "```\n",
    "  |  |  \n",
    "--------\n",
    "  |  |  \n",
    "--------\n",
    "  |  |  \n",
    "  \n",
    "```\n",
    "\n",
    "First just use print statements"
   ]
  },
  {
   "cell_type": "code",
   "execution_count": 1,
   "metadata": {
    "collapsed": false
   },
   "outputs": [
    {
     "name": "stdout",
     "output_type": "stream",
     "text": [
      "  |  |  \n",
      "--------\n",
      "  |  |  \n",
      "--------\n",
      "  |  |\n"
     ]
    }
   ],
   "source": [
    "print('  |  |  ')\n",
    "print('--------')\n",
    "print('  |  |  ')\n",
    "print('--------')\n",
    "print('  |  |')\n",
    "\n"
   ]
  },
  {
   "cell_type": "markdown",
   "metadata": {},
   "source": [
    "Now do it using variables"
   ]
  },
  {
   "cell_type": "code",
   "execution_count": 2,
   "metadata": {
    "collapsed": false
   },
   "outputs": [
    {
     "name": "stdout",
     "output_type": "stream",
     "text": [
      "me.\n"
     ]
    }
   ],
   "source": [
    "print ('me.')"
   ]
  },
  {
   "cell_type": "markdown",
   "metadata": {},
   "source": [
    "Starting with x and y as defined, write code to print the larger number"
   ]
  },
  {
   "cell_type": "code",
   "execution_count": 5,
   "metadata": {
    "collapsed": false
   },
   "outputs": [
    {
     "data": {
      "text/plain": [
       "54"
      ]
     },
     "execution_count": 5,
     "metadata": {},
     "output_type": "execute_result"
    }
   ],
   "source": [
    "x = 54\n",
    "y = 23\n",
    "\n",
    "max (x,y)"
   ]
  },
  {
   "cell_type": "markdown",
   "metadata": {},
   "source": [
    "Starting with x, y, and z as defined, write code to print the largest number"
   ]
  },
  {
   "cell_type": "code",
   "execution_count": 6,
   "metadata": {
    "collapsed": false
   },
   "outputs": [
    {
     "data": {
      "text/plain": [
       "23"
      ]
     },
     "execution_count": 6,
     "metadata": {},
     "output_type": "execute_result"
    }
   ],
   "source": [
    "x = -54\n",
    "y = 23\n",
    "z = 4\n",
    "\n",
    "max (x,y,z)"
   ]
  },
  {
   "cell_type": "raw",
   "metadata": {},
   "source": [
    "Write a vowel recognizer"
   ]
  },
  {
   "cell_type": "code",
   "execution_count": null,
   "metadata": {
    "collapsed": false
   },
   "outputs": [],
   "source": [
    "char_in = input (\"Enter a character\")\n",
    "if char_in in ('a', 'e', 'i', 'o', 'u'):\n",
    "    print (\"Low and Lower\")\n",
    "elif char_in in \"y\":\n",
    "    print (\"candy\")\n",
    "else:\n",
    "    print (\"lollipop\")"
   ]
  },
  {
   "cell_type": "code",
   "execution_count": null,
   "metadata": {
    "collapsed": true
   },
   "outputs": [],
   "source": []
  },
  {
   "cell_type": "markdown",
   "metadata": {},
   "source": [
    "Turn the following code into English\n"
   ]
  },
  {
   "cell_type": "code",
   "execution_count": 1,
   "metadata": {
    "collapsed": false
   },
   "outputs": [
    {
     "name": "stdout",
     "output_type": "stream",
     "text": [
      "What? 4\n",
      "Hmmmm\n",
      "What? 9\n",
      "Meh\n",
      "What? 2\n",
      "Meh\n",
      "What? 5\n",
      "Hmmmm\n",
      "What? 7\n",
      "Hmmmm\n",
      "What? 6\n",
      "OK\n"
     ]
    }
   ],
   "source": [
    "import random\n",
    "a = random.choice(range(1,11))\n",
    "b = 0\n",
    "while (a != b):\n",
    "    b = int(input(\"What? \"))\n",
    "    if abs(a-b) > 4:\n",
    "        print (\"Pfft\")\n",
    "    elif abs(a-b) > 2:\n",
    "        print (\"Meh\")\n",
    "    elif abs(a-b)>0:\n",
    "        print (\"Hmmmm\")\n",
    "    else:\n",
    "        print (\"OK\")\n"
   ]
  },
  {
   "cell_type": "code",
   "execution_count": null,
   "metadata": {
    "collapsed": true
   },
   "outputs": [],
   "source": [
    "Now modify it into readable code. Be sure to make variables for all the numbers"
   ]
  },
  {
   "cell_type": "code",
   "execution_count": 3,
   "metadata": {
    "collapsed": false
   },
   "outputs": [
    {
     "name": "stdout",
     "output_type": "stream",
     "text": [
      "Pick a number between 1-106\n",
      "What? 6\n",
      "Meh\n",
      "What? 2\n",
      "Pfft\n",
      "What? 4\n",
      "Pfft\n",
      "What? 9\n",
      "Hmmmm\n",
      "What? 10\n",
      "OK\n"
     ]
    }
   ],
   "source": [
    "input (\"Pick a number between 1-10\") \n",
    "import random\n",
    "a = random.choice(range(1,11))\n",
    "b = 0\n",
    "while (a != b):\n",
    "    b = int(input(\"What? \"))\n",
    "    if abs(a-b) > 4:\n",
    "        print (\"Pfft\")\n",
    "    elif abs(a-b) > 2:\n",
    "        print (\"Meh\")\n",
    "    elif abs(a-b)>0:\n",
    "        print (\"Hmmmm\")\n",
    "    else:\n",
    "        print (\"OK\")"
   ]
  },
  {
   "cell_type": "markdown",
   "metadata": {},
   "source": [
    "Write an algorithm to print the lyrics to \"99 Bottles of Beer on the Wall\"\n",
    "99 bottles of beer on the wall, 99 bottles of beer.\n",
    "Take one down, pass it around, 98 bottles of beer on the wall.\n",
    "98 bottles of beer on the wall, 98 bottles of beer.\n",
    "Take one down, pass it around, 97 bottles of beer on the wall.\n",
    "...\n",
    "no more bottles of beer on the wall.\n"
   ]
  },
  {
   "cell_type": "code",
   "execution_count": 4,
   "metadata": {
    "collapsed": false
   },
   "outputs": [
    {
     "name": "stdout",
     "output_type": "stream",
     "text": [
      "99 bottles of beer on the wall, bottles of beer\n",
      "98 bottles of beer on the wall, bottles of beer\n",
      "97 bottles of beer on the wall, bottles of beer\n",
      "96 bottles of beer on the wall, bottles of beer\n",
      "95 bottles of beer on the wall, bottles of beer\n",
      "94 bottles of beer on the wall, bottles of beer\n",
      "93 bottles of beer on the wall, bottles of beer\n",
      "92 bottles of beer on the wall, bottles of beer\n",
      "91 bottles of beer on the wall, bottles of beer\n",
      "90 bottles of beer on the wall, bottles of beer\n",
      "89 bottles of beer on the wall, bottles of beer\n",
      "88 bottles of beer on the wall, bottles of beer\n",
      "87 bottles of beer on the wall, bottles of beer\n",
      "86 bottles of beer on the wall, bottles of beer\n",
      "85 bottles of beer on the wall, bottles of beer\n",
      "84 bottles of beer on the wall, bottles of beer\n",
      "83 bottles of beer on the wall, bottles of beer\n",
      "82 bottles of beer on the wall, bottles of beer\n",
      "81 bottles of beer on the wall, bottles of beer\n",
      "80 bottles of beer on the wall, bottles of beer\n",
      "79 bottles of beer on the wall, bottles of beer\n",
      "78 bottles of beer on the wall, bottles of beer\n",
      "77 bottles of beer on the wall, bottles of beer\n",
      "76 bottles of beer on the wall, bottles of beer\n",
      "75 bottles of beer on the wall, bottles of beer\n",
      "74 bottles of beer on the wall, bottles of beer\n",
      "73 bottles of beer on the wall, bottles of beer\n",
      "72 bottles of beer on the wall, bottles of beer\n",
      "71 bottles of beer on the wall, bottles of beer\n",
      "70 bottles of beer on the wall, bottles of beer\n",
      "69 bottles of beer on the wall, bottles of beer\n",
      "68 bottles of beer on the wall, bottles of beer\n",
      "67 bottles of beer on the wall, bottles of beer\n",
      "66 bottles of beer on the wall, bottles of beer\n",
      "65 bottles of beer on the wall, bottles of beer\n",
      "64 bottles of beer on the wall, bottles of beer\n",
      "63 bottles of beer on the wall, bottles of beer\n",
      "62 bottles of beer on the wall, bottles of beer\n",
      "61 bottles of beer on the wall, bottles of beer\n",
      "60 bottles of beer on the wall, bottles of beer\n",
      "59 bottles of beer on the wall, bottles of beer\n",
      "58 bottles of beer on the wall, bottles of beer\n",
      "57 bottles of beer on the wall, bottles of beer\n",
      "56 bottles of beer on the wall, bottles of beer\n",
      "55 bottles of beer on the wall, bottles of beer\n",
      "54 bottles of beer on the wall, bottles of beer\n",
      "53 bottles of beer on the wall, bottles of beer\n",
      "52 bottles of beer on the wall, bottles of beer\n",
      "51 bottles of beer on the wall, bottles of beer\n",
      "50 bottles of beer on the wall, bottles of beer\n",
      "49 bottles of beer on the wall, bottles of beer\n",
      "48 bottles of beer on the wall, bottles of beer\n",
      "47 bottles of beer on the wall, bottles of beer\n",
      "46 bottles of beer on the wall, bottles of beer\n",
      "45 bottles of beer on the wall, bottles of beer\n",
      "44 bottles of beer on the wall, bottles of beer\n",
      "43 bottles of beer on the wall, bottles of beer\n",
      "42 bottles of beer on the wall, bottles of beer\n",
      "41 bottles of beer on the wall, bottles of beer\n",
      "40 bottles of beer on the wall, bottles of beer\n",
      "39 bottles of beer on the wall, bottles of beer\n",
      "38 bottles of beer on the wall, bottles of beer\n",
      "37 bottles of beer on the wall, bottles of beer\n",
      "36 bottles of beer on the wall, bottles of beer\n",
      "35 bottles of beer on the wall, bottles of beer\n",
      "34 bottles of beer on the wall, bottles of beer\n",
      "33 bottles of beer on the wall, bottles of beer\n",
      "32 bottles of beer on the wall, bottles of beer\n",
      "31 bottles of beer on the wall, bottles of beer\n",
      "30 bottles of beer on the wall, bottles of beer\n",
      "29 bottles of beer on the wall, bottles of beer\n",
      "28 bottles of beer on the wall, bottles of beer\n",
      "27 bottles of beer on the wall, bottles of beer\n",
      "26 bottles of beer on the wall, bottles of beer\n",
      "25 bottles of beer on the wall, bottles of beer\n",
      "24 bottles of beer on the wall, bottles of beer\n",
      "23 bottles of beer on the wall, bottles of beer\n",
      "22 bottles of beer on the wall, bottles of beer\n",
      "21 bottles of beer on the wall, bottles of beer\n",
      "20 bottles of beer on the wall, bottles of beer\n",
      "19 bottles of beer on the wall, bottles of beer\n",
      "18 bottles of beer on the wall, bottles of beer\n",
      "17 bottles of beer on the wall, bottles of beer\n",
      "16 bottles of beer on the wall, bottles of beer\n",
      "15 bottles of beer on the wall, bottles of beer\n",
      "14 bottles of beer on the wall, bottles of beer\n",
      "13 bottles of beer on the wall, bottles of beer\n",
      "12 bottles of beer on the wall, bottles of beer\n",
      "11 bottles of beer on the wall, bottles of beer\n",
      "10 bottles of beer on the wall, bottles of beer\n",
      "9 bottles of beer on the wall, bottles of beer\n",
      "8 bottles of beer on the wall, bottles of beer\n",
      "7 bottles of beer on the wall, bottles of beer\n",
      "6 bottles of beer on the wall, bottles of beer\n",
      "5 bottles of beer on the wall, bottles of beer\n",
      "4 bottles of beer on the wall, bottles of beer\n",
      "3 bottles of beer on the wall, bottles of beer\n",
      "2 bottles of beer on the wall, bottles of beer\n",
      "1 bottles of beer on the wall, bottles of beer\n",
      "no more bottles of beer on the wall\n"
     ]
    }
   ],
   "source": [
    "bottles_of_beer = 99\n",
    "while bottles_of_beer > 0:\n",
    "    print (bottles_of_beer, 'bottles of beer on the wall, bottles of beer')\n",
    "    bottles_of_beer = bottles_of_beer - 1\n",
    "print ('no more bottles of beer on the wall')"
   ]
  },
  {
   "cell_type": "markdown",
   "metadata": {},
   "source": [
    "For the brave, implement your algorithm in Python"
   ]
  },
  {
   "cell_type": "code",
   "execution_count": 8,
   "metadata": {
    "collapsed": false
   },
   "outputs": [
    {
     "name": "stdout",
     "output_type": "stream",
     "text": [
      "13 girls eating bread 13 boys eating bread\n",
      "12 girls eating bread 12 boys eating bread\n",
      "11 girls eating bread 11 boys eating bread\n",
      "10 girls eating bread 10 boys eating bread\n",
      "9 girls eating bread 9 boys eating bread\n",
      "8 girls eating bread 8 boys eating bread\n",
      "7 girls eating bread 7 boys eating bread\n",
      "6 girls eating bread 6 boys eating bread\n",
      "5 girls eating bread 5 boys eating bread\n",
      "4 girls eating bread 4 boys eating bread\n",
      "3 girls eating bread 3 boys eating bread\n",
      "2 girls eating bread 2 boys eating bread\n",
      "1 girls eating bread 1 boys eating bread\n",
      "no more people eating bread\n"
     ]
    }
   ],
   "source": [
    "people = 13\n",
    "while people > 0:\n",
    "    print (people, 'girls eating bread', people, 'boys eating bread')\n",
    "    people = people - 1\n",
    "print ('no more people eating bread')"
   ]
  },
  {
   "cell_type": "code",
   "execution_count": null,
   "metadata": {
    "collapsed": true
   },
   "outputs": [],
   "source": []
  }
 ],
 "metadata": {
  "kernelspec": {
   "display_name": "Python 3",
   "language": "python",
   "name": "python3"
  }
 },
 "nbformat": 4,
 "nbformat_minor": 0
}
