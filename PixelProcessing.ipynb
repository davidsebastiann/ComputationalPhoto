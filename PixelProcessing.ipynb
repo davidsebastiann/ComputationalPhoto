{
 "cells": [
  {
   "cell_type": "code",
   "execution_count": 1,
   "metadata": {
    "collapsed": true
   },
   "outputs": [],
   "source": [
    "from PIL import Image\n",
    "import random, sys\n",
    "sys.setrecursionlimit(10000) #Increase the recursion depth limit. Without this, the script fails on larger images because quicksort recurses too much.\n"
   ]
  },
  {
   "cell_type": "code",
   "execution_count": 2,
   "metadata": {
    "collapsed": true
   },
   "outputs": [],
   "source": [
    "def quick_sort(pixels):\n",
    "    #Quicksort function that sorts pixels based on combined RGB values (R + B + G)\n",
    "    if pixels == []:\n",
    "        return pixels\n",
    "\n",
    "    else:\n",
    "        pivot = pixels[0]\n",
    "        lesser = quick_sort([x for x in pixels[1:] if (x[0] + x[1] + x[2]) < (pivot[0] + pivot[1] + pivot[2])])\n",
    "        greater = quick_sort([x for x in pixels[1:] if (x[0] + x[1] + x[2]) >= (pivot[0] + pivot[1] + pivot[2])])\n",
    "        return lesser + [pivot] + greater\n",
    "\n",
    "\n"
   ]
  },
  {
   "cell_type": "code",
   "execution_count": 3,
   "metadata": {
    "collapsed": false
   },
   "outputs": [],
   "source": [
    "def pixel_processor(img, pixel_function):\n",
    "    \"\"\"receives a PIL Image called img, \n",
    "        processes all pixels in img using pixel_function,\n",
    "        returns a new PIL image\"\"\"\n",
    "    \n",
    "    print(\"convert img to RGBA mode\")\n",
    "    img = img.convert('RGBA')\n",
    "    \n",
    "    print(\"Get data...\")\n",
    "    data = img.load()\n",
    "    \n",
    "    print(\"Create return image\")\n",
    "    new = Image.new('RGBA', img.size)\n",
    "\n",
    "    pixels = []\n",
    "    \n",
    "    print(\"Getting pixels...\")\n",
    "    #Load all of the pixels into the pixels list\n",
    "    for y in range(img.size[1]):\n",
    "        pixels.append([])\n",
    "        for x in range(img.size[0]):\n",
    "            pixels[y].append(data[x, y])\n",
    "\n",
    "    print(\"Processing pixels...\")\n",
    "    sorted_pixels = pixel_function(pixels, img.size)\n",
    "\n",
    "    print(\"Placing pixels...\")\n",
    "    for y in range(img.size[1]):\n",
    "        for x in range(img.size[0]):\n",
    "            new.putpixel((x, y), sorted_pixels[y][x]) #apply the pixels to the new image\n",
    "\n",
    "    print(\"Returning image...\")\n",
    "    return(new)\n",
    "\n",
    "\n"
   ]
  },
  {
   "cell_type": "code",
   "execution_count": 4,
   "metadata": {
    "collapsed": true
   },
   "outputs": [],
   "source": [
    "def copy_pixels(pixel_array, size):\n",
    "    \"\"\"Simple row by row copy of pixel_array\"\"\"\n",
    "    \n",
    "    return_pixels = []\n",
    "    for row in range(size[1]):\n",
    "        return_pixels.append(pixel_array[row])\n",
    "        \n",
    "    return(return_pixels)"
   ]
  },
  {
   "cell_type": "code",
   "execution_count": 9,
   "metadata": {
    "collapsed": false
   },
   "outputs": [],
   "source": [
    "# line by line rotate pixels\n",
    "#initially use midpoint\n",
    "\n",
    "def rotate_all_rows(pixel_array, size):\n",
    "\n",
    "    divide_point = int(random.randint(5,size[0]))\n",
    "    print(\"rotating around\", str(divide_point))\n",
    "    return_pixels = []\n",
    "    for row in range(size[1]):\n",
    "        return_pixels.append(pixel_array[row][divide_point:] + pixel_array[row][:divide_point:])\n",
    "    \n",
    "    return(return_pixels)"
   ]
  },
  {
   "cell_type": "code",
   "execution_count": 10,
   "metadata": {
    "collapsed": true
   },
   "outputs": [],
   "source": [
    "# line by line rotate pixels\n",
    "# along a diagonal\n",
    "\n",
    "def rotate_all_rows(pixel_array, size):\n",
    "\n",
    "    return_pixels = []\n",
    "    for row in range(size[1]):\n",
    "        divide_point = row\n",
    "        return_pixels.append(pixel_array[row][divide_point:] + pixel_array[row][:divide_point:])\n",
    "    \n",
    "    return(return_pixels)"
   ]
  },
  {
   "cell_type": "code",
   "execution_count": 18,
   "metadata": {
    "collapsed": true
   },
   "outputs": [],
   "source": [
    "# line by line sort pixels by brightness\n",
    "# along a diagonal\n",
    "\n",
    "def sort_all_pixels(pixel_array, size):\n",
    "\n",
    "    return_pixels = []\n",
    "    for row in range(size[1]):\n",
    "        return_pixels.append(quick_sort(pixel_array[row] ))\n",
    "    \n",
    "    return(return_pixels)"
   ]
  },
  {
   "cell_type": "code",
   "execution_count": 21,
   "metadata": {
    "collapsed": true
   },
   "outputs": [],
   "source": [
    "def swap_colors(pixel_array,size):\n",
    "    \n",
    "    return_pixels = []\n",
    "    for row in range(size[1]):\n",
    "        new_row = []\n",
    "        for col in range(size[0]):\n",
    "            new_pixel = (pixel_array[row][col][1],pixel_array[row][col][2],pixel_array[row][col][0],)\n",
    "            new_row.append(new_pixel)\n",
    "        return_pixels.append(new_row)\n",
    "        \n",
    "    return(return_pixels)"
   ]
  },
  {
   "cell_type": "code",
   "execution_count": 25,
   "metadata": {
    "collapsed": false
   },
   "outputs": [
    {
     "name": "stdout",
     "output_type": "stream",
     "text": [
      "convert img to RGBA mode\n",
      "Get data...\n",
      "Create return image\n",
      "Getting pixels...\n",
      "Processing pixels...\n",
      "Placing pixels...\n",
      "Returning image...\n",
      "convert img to RGBA mode\n",
      "Get data...\n",
      "Create return image\n",
      "Getting pixels...\n",
      "Processing pixels...\n",
      "Placing pixels...\n",
      "Returning image...\n"
     ]
    }
   ],
   "source": [
    "milkmaid = Image.open(\"images/milkmaid.jpg\")\n",
    "\n",
    "#milkmaid = Image.open(\"images/milkmaid.jpg\")\n",
    "#pixel_processor(milkmaid, copy_pixels).show()\n",
    "#pixel_processor(milkmaid, rotate_all_rows).show()\n",
    "#pixel_processor(milkmaid, rotate_all_rows_on_diag).show()\n",
    "#pixel_processor(milkmaid, sort_all_pixels).show()\n",
    "#pixel_processor(milkmaid, sort_pixels_random).show()\n",
    "#pixel_processor(milkmaid, swap_colors).show()\n",
    "\n",
    "new_color_img = pixel_processor(milkmaid, swap_colors)\n",
    "pixel_processor(new_color_img, sort_all_pixels).show()\n",
    "\n",
    "\n"
   ]
  },
  {
   "cell_type": "code",
   "execution_count": null,
   "metadata": {
    "collapsed": true
   },
   "outputs": [],
   "source": []
  },
  {
   "cell_type": "code",
   "execution_count": null,
   "metadata": {
    "collapsed": true
   },
   "outputs": [],
   "source": []
  },
  {
   "cell_type": "code",
   "execution_count": null,
   "metadata": {
    "collapsed": true
   },
   "outputs": [],
   "source": []
  }
 ],
 "metadata": {
  "kernelspec": {
   "display_name": "Python 3",
   "language": "python",
   "name": "python3"
  }
 },
 "nbformat": 4,
 "nbformat_minor": 0
}
