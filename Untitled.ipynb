{
 "cells": [
  {
   "cell_type": "code",
   "execution_count": 29,
   "metadata": {
    "collapsed": true
   },
   "outputs": [],
   "source": [
    "from PIL import Image\n",
    "cat_pic = Image.open('data/cc_cat.png')\n",
    "cat_pic.show()"
   ]
  },
  {
   "cell_type": "code",
   "execution_count": 27,
   "metadata": {
    "collapsed": false
   },
   "outputs": [],
   "source": [
    "slice_height = int(cat_pic.size[1] / 10)\n",
    "for horizontal_slice in range(1,10,2):\n",
    "  left_edge = 0\n",
    "  right_edge = cat_pic.size[0]\n",
    "  width = int(cat_pic.size [0] / 3)\n",
    "  top_edge = horizontal_slice * slice_height\n",
    "  bottom_edge = top_edge + slice_height\n",
    "  slice_box = (left_edge,top_edge,right_edge,bottom_edge)\n",
    "  cat_slice = cat_pic.crop(slice_box)\n",
    "  rot_cat_slice = cat_slice.rotate(180)\n",
    "  tri_cat = cat_pic.paste(rot_cat_slice,slice_box)\n",
    "  cat_pic.size\n",
    "cat_pic.show()"
   ]
  },
  {
   "cell_type": "code",
   "execution_count": 30,
   "metadata": {
    "collapsed": false
   },
   "outputs": [],
   "source": [
    "mirror_cat = Image.new('RGB', (cat_pic.size[0]*2, cat_pic.size[1]))\n",
    "mirror_cat.paste(cat_pic,(0,0,cat_pic.size[0],cat_pic.size[1]))\n",
    "mirror_cat.paste(cat_pic,(cat_pic.size[0],0,cat_pic.size[0]*2,cat_pic.size[1]))\n",
    "slice_height = int(cat_pic.size[1] / 10)\n",
    "for horizontal_slice in range(1,10,2):\n",
    "    left_edge = 0\n",
    "    right_edge = cat_pic.size[0]\n",
    "    top_edge = horizontal_slice * slice_height\n",
    "    bottom_edge = top_edge + slice_height\n",
    "    slice_box = (left_edge,top_edge,right_edge,bottom_edge)\n",
    "    cat_slice = cat_pic.crop(slice_box)\n",
    "    rot_cat_slice = cat_slice.rotate(180)\n",
    "    flip_cat_slice = cat_slice.transpose(Image.FLIP_TOP_BOTTOM)\n",
    "    mirror_cat.paste(rot_cat_slice,slice_box)\n",
    "    slice_box = (right_edge,top_edge,right_edge*2,bottom_edge)\n",
    "    mirror_cat.paste(flip_cat_slice,slice_box)\n",
    "mirror_cat.show()"
   ]
  },
  {
   "cell_type": "code",
   "execution_count": null,
   "metadata": {
    "collapsed": true
   },
   "outputs": [],
   "source": []
  },
  {
   "cell_type": "code",
   "execution_count": null,
   "metadata": {
    "collapsed": true
   },
   "outputs": [],
   "source": []
  }
 ],
 "metadata": {
  "kernelspec": {
   "display_name": "Python 3",
   "language": "python",
   "name": "python3"
  },
  "language_info": {
   "codemirror_mode": {
    "name": "ipython",
    "version": 3
   },
   "file_extension": ".py",
   "mimetype": "text/x-python",
   "name": "python",
   "nbconvert_exporter": "python",
   "pygments_lexer": "ipython3",
   "version": "3.5.1"
  }
 },
 "nbformat": 4,
 "nbformat_minor": 0
}
